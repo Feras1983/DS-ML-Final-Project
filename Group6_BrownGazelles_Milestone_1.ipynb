{
  "nbformat": 4,
  "nbformat_minor": 0,
  "metadata": {
    "colab": {
      "name": "Group6_BrownGazelles-Milestone_1.ipynb",
      "provenance": [],
      "collapsed_sections": [],
      "authorship_tag": "ABX9TyNFbSqAw6QKfIeG+oKACSby",
      "include_colab_link": true
    },
    "kernelspec": {
      "name": "python3",
      "display_name": "Python 3"
    },
    "language_info": {
      "name": "python"
    }
  },
  "cells": [
    {
      "cell_type": "markdown",
      "metadata": {
        "id": "view-in-github",
        "colab_type": "text"
      },
      "source": [
        "<a href=\"https://colab.research.google.com/github/Feras1983/DS-ML-Final-Project/blob/main/Group6_BrownGazelles_Milestone_1.ipynb\" target=\"_parent\"><img src=\"https://colab.research.google.com/assets/colab-badge.svg\" alt=\"Open In Colab\"/></a>"
      ]
    },
    {
      "cell_type": "markdown",
      "metadata": {
        "id": "6YMYgAy6ND_G"
      },
      "source": [
        "**Group 6 (Marina & Feras) - Option A - Sentiment Analysis - Amazon Musical Instruments**\n",
        "\n",
        "***Option A - Sentiment Analysis***\n",
        "\n",
        "Columns below:\n",
        "\n",
        "**marketplace**: Identifies **the** country or market the reviews are from.\n",
        "\n",
        "\n",
        "**customer_id**: Identifies a unique ID number assigned to a customer.\n",
        "\n",
        "\n",
        "**review_id**: Identifies a unique number assigned to each review.\n",
        "\n",
        "\n",
        "**product_id**: Identifies a unique number assigned to each product.\n",
        "\n",
        "\n",
        "**product_parent**: Identifies reviews for the same product.\n",
        "\n",
        "\n",
        "**product_title**: Identifies the product's brand name and model number for each model.\n",
        "\n",
        "\n",
        "**product_category**: Identifies the category for the product.\n",
        "\n",
        "\n",
        "**star_rating**: Identifies the rating for each product and model (1 being the lowest rating, and 5 being the highest rating).\n",
        "\n",
        "\n",
        "**helpful_votes**: Identifies the numeber of helpful votes.\n",
        "\n",
        "\n",
        "**total_votes**: Identifies number of total votes reviewed.\n",
        "\n",
        "\n",
        "**vine**: Review was written as part of the Vine program (from the most trusted reviewers on Amazon).\n",
        "\n",
        "\n",
        "**verified_purchase**: The review is on a verified purchase.\n",
        "\n",
        "\n",
        "**review_headline**: The title of the review.\n",
        "\n",
        "\n",
        "**review_body**: Identifies the qualitative part of the review, written directly by the customers.\n",
        "\n",
        "\n",
        "**review_date**: Identifies the date the review was written."
      ]
    },
    {
      "cell_type": "code",
      "metadata": {
        "id": "vvkIyHOvOhX8"
      },
      "source": [
        "#Import Libraries\n",
        "import pandas as pd"
      ],
      "execution_count": null,
      "outputs": []
    },
    {
      "cell_type": "code",
      "metadata": {
        "colab": {
          "base_uri": "https://localhost:8080/"
        },
        "id": "u8VjRJyJE8gi",
        "outputId": "3202ba91-a112-45d3-8078-471afcb5e04d"
      },
      "source": [
        "#Download product reviews from Amazonn Data sets - we chose Musical Instruments\n",
        "!curl -O https://s3.amazonaws.com/amazon-reviews-pds/tsv/amazon_reviews_us_Musical_Instruments_v1_00.tsv.gz"
      ],
      "execution_count": null,
      "outputs": [
        {
          "output_type": "stream",
          "text": [
            "  % Total    % Received % Xferd  Average Speed   Time    Time     Time  Current\n",
            "                                 Dload  Upload   Total   Spent    Left  Speed\n",
            "100  184M  100  184M    0     0  52.6M      0  0:00:03  0:00:03 --:--:-- 52.5M\n"
          ],
          "name": "stdout"
        }
      ]
    },
    {
      "cell_type": "code",
      "metadata": {
        "id": "dGWBuyFaHeQq",
        "colab": {
          "base_uri": "https://localhost:8080/"
        },
        "outputId": "cb490bf6-295b-4854-bd4e-9c304953ec3e"
      },
      "source": [
        "!ls"
      ],
      "execution_count": null,
      "outputs": [
        {
          "output_type": "stream",
          "text": [
            "amazon_reviews_us_Musical_Instruments_v1_00.tsv     sample_data\n",
            "amazon_reviews_us_Musical_Instruments_v1_00.tsv.gz\n"
          ],
          "name": "stdout"
        }
      ]
    },
    {
      "cell_type": "code",
      "metadata": {
        "colab": {
          "base_uri": "https://localhost:8080/"
        },
        "id": "S2-OvmhcHoJ1",
        "outputId": "e4797252-59e3-4ad4-b4a7-8d0293b9817d"
      },
      "source": [
        "#Read the content of the data set\n",
        "!echo \"y\" | gzip -d amazon_reviews_us_Musical_Instruments_v1_00.tsv.gz"
      ],
      "execution_count": null,
      "outputs": [
        {
          "output_type": "stream",
          "text": [
            "gzip: amazon_reviews_us_Musical_Instruments_v1_00.tsv already exists;\tnot overwritten\n"
          ],
          "name": "stdout"
        }
      ]
    },
    {
      "cell_type": "code",
      "metadata": {
        "id": "0qXXYZwPJXUv"
      },
      "source": [
        "#Create/Assign the Dataset\n",
        "df = pd.read_table('amazon_reviews_us_Musical_Instruments_v1_00.tsv.gz', delim_whitespace=False, error_bad_lines=False, nrows=1000)\n"
      ],
      "execution_count": null,
      "outputs": []
    },
    {
      "cell_type": "code",
      "metadata": {
        "colab": {
          "base_uri": "https://localhost:8080/",
          "height": 503
        },
        "id": "PM9AL7xdMw8M",
        "outputId": "63a910c8-820e-4bfa-ac4d-b11889ba2eaf"
      },
      "source": [
        "#Check the Dataset (1)\n",
        "df.head()"
      ],
      "execution_count": null,
      "outputs": [
        {
          "output_type": "execute_result",
          "data": {
            "text/html": [
              "<div>\n",
              "<style scoped>\n",
              "    .dataframe tbody tr th:only-of-type {\n",
              "        vertical-align: middle;\n",
              "    }\n",
              "\n",
              "    .dataframe tbody tr th {\n",
              "        vertical-align: top;\n",
              "    }\n",
              "\n",
              "    .dataframe thead th {\n",
              "        text-align: right;\n",
              "    }\n",
              "</style>\n",
              "<table border=\"1\" class=\"dataframe\">\n",
              "  <thead>\n",
              "    <tr style=\"text-align: right;\">\n",
              "      <th></th>\n",
              "      <th>marketplace</th>\n",
              "      <th>customer_id</th>\n",
              "      <th>review_id</th>\n",
              "      <th>product_id</th>\n",
              "      <th>product_parent</th>\n",
              "      <th>product_title</th>\n",
              "      <th>product_category</th>\n",
              "      <th>star_rating</th>\n",
              "      <th>helpful_votes</th>\n",
              "      <th>total_votes</th>\n",
              "      <th>vine</th>\n",
              "      <th>verified_purchase</th>\n",
              "      <th>review_headline</th>\n",
              "      <th>review_body</th>\n",
              "      <th>review_date</th>\n",
              "    </tr>\n",
              "  </thead>\n",
              "  <tbody>\n",
              "    <tr>\n",
              "      <th>0</th>\n",
              "      <td>US</td>\n",
              "      <td>45610553</td>\n",
              "      <td>RMDCHWD0Y5OZ9</td>\n",
              "      <td>B00HH62VB6</td>\n",
              "      <td>618218723</td>\n",
              "      <td>AGPtek® 10 Isolated Output 9V 12V 18V Guitar P...</td>\n",
              "      <td>Musical Instruments</td>\n",
              "      <td>3</td>\n",
              "      <td>0</td>\n",
              "      <td>1</td>\n",
              "      <td>N</td>\n",
              "      <td>N</td>\n",
              "      <td>Three Stars</td>\n",
              "      <td>Works very good, but induces ALOT of noise.</td>\n",
              "      <td>2015-08-31</td>\n",
              "    </tr>\n",
              "    <tr>\n",
              "      <th>1</th>\n",
              "      <td>US</td>\n",
              "      <td>14640079</td>\n",
              "      <td>RZSL0BALIYUNU</td>\n",
              "      <td>B003LRN53I</td>\n",
              "      <td>986692292</td>\n",
              "      <td>Sennheiser HD203 Closed-Back DJ Headphones</td>\n",
              "      <td>Musical Instruments</td>\n",
              "      <td>5</td>\n",
              "      <td>0</td>\n",
              "      <td>0</td>\n",
              "      <td>N</td>\n",
              "      <td>Y</td>\n",
              "      <td>Five Stars</td>\n",
              "      <td>Nice headphones at a reasonable price.</td>\n",
              "      <td>2015-08-31</td>\n",
              "    </tr>\n",
              "    <tr>\n",
              "      <th>2</th>\n",
              "      <td>US</td>\n",
              "      <td>6111003</td>\n",
              "      <td>RIZR67JKUDBI0</td>\n",
              "      <td>B0006VMBHI</td>\n",
              "      <td>603261968</td>\n",
              "      <td>AudioQuest LP record clean brush</td>\n",
              "      <td>Musical Instruments</td>\n",
              "      <td>3</td>\n",
              "      <td>0</td>\n",
              "      <td>1</td>\n",
              "      <td>N</td>\n",
              "      <td>Y</td>\n",
              "      <td>Three Stars</td>\n",
              "      <td>removes dust. does not clean</td>\n",
              "      <td>2015-08-31</td>\n",
              "    </tr>\n",
              "    <tr>\n",
              "      <th>3</th>\n",
              "      <td>US</td>\n",
              "      <td>1546619</td>\n",
              "      <td>R27HL570VNL85F</td>\n",
              "      <td>B002B55TRG</td>\n",
              "      <td>575084461</td>\n",
              "      <td>Hohner Inc. 560BX-BF Special Twenty Harmonica</td>\n",
              "      <td>Musical Instruments</td>\n",
              "      <td>5</td>\n",
              "      <td>0</td>\n",
              "      <td>0</td>\n",
              "      <td>N</td>\n",
              "      <td>Y</td>\n",
              "      <td>I purchase these for a friend in return for pl...</td>\n",
              "      <td>I purchase these for a friend in return for pl...</td>\n",
              "      <td>2015-08-31</td>\n",
              "    </tr>\n",
              "    <tr>\n",
              "      <th>4</th>\n",
              "      <td>US</td>\n",
              "      <td>12222213</td>\n",
              "      <td>R34EBU9QDWJ1GD</td>\n",
              "      <td>B00N1YPXW2</td>\n",
              "      <td>165236328</td>\n",
              "      <td>Blue Yeti USB Microphone - Blackout Edition</td>\n",
              "      <td>Musical Instruments</td>\n",
              "      <td>5</td>\n",
              "      <td>0</td>\n",
              "      <td>0</td>\n",
              "      <td>N</td>\n",
              "      <td>Y</td>\n",
              "      <td>Five Stars</td>\n",
              "      <td>This is an awesome mic!</td>\n",
              "      <td>2015-08-31</td>\n",
              "    </tr>\n",
              "  </tbody>\n",
              "</table>\n",
              "</div>"
            ],
            "text/plain": [
              "  marketplace  ...  review_date\n",
              "0          US  ...   2015-08-31\n",
              "1          US  ...   2015-08-31\n",
              "2          US  ...   2015-08-31\n",
              "3          US  ...   2015-08-31\n",
              "4          US  ...   2015-08-31\n",
              "\n",
              "[5 rows x 15 columns]"
            ]
          },
          "metadata": {
            "tags": []
          },
          "execution_count": 66
        }
      ]
    },
    {
      "cell_type": "code",
      "metadata": {
        "colab": {
          "base_uri": "https://localhost:8080/",
          "height": 521
        },
        "id": "By9uo2I3MyzN",
        "outputId": "87c2817f-569f-47fd-baca-b81bf74b845a"
      },
      "source": [
        "#Check the Dataset (2)\n",
        "df.tail()"
      ],
      "execution_count": null,
      "outputs": [
        {
          "output_type": "execute_result",
          "data": {
            "text/html": [
              "<div>\n",
              "<style scoped>\n",
              "    .dataframe tbody tr th:only-of-type {\n",
              "        vertical-align: middle;\n",
              "    }\n",
              "\n",
              "    .dataframe tbody tr th {\n",
              "        vertical-align: top;\n",
              "    }\n",
              "\n",
              "    .dataframe thead th {\n",
              "        text-align: right;\n",
              "    }\n",
              "</style>\n",
              "<table border=\"1\" class=\"dataframe\">\n",
              "  <thead>\n",
              "    <tr style=\"text-align: right;\">\n",
              "      <th></th>\n",
              "      <th>marketplace</th>\n",
              "      <th>customer_id</th>\n",
              "      <th>review_id</th>\n",
              "      <th>product_id</th>\n",
              "      <th>product_parent</th>\n",
              "      <th>product_title</th>\n",
              "      <th>product_category</th>\n",
              "      <th>star_rating</th>\n",
              "      <th>helpful_votes</th>\n",
              "      <th>total_votes</th>\n",
              "      <th>vine</th>\n",
              "      <th>verified_purchase</th>\n",
              "      <th>review_headline</th>\n",
              "      <th>review_body</th>\n",
              "      <th>review_date</th>\n",
              "    </tr>\n",
              "  </thead>\n",
              "  <tbody>\n",
              "    <tr>\n",
              "      <th>995</th>\n",
              "      <td>US</td>\n",
              "      <td>2463093</td>\n",
              "      <td>R260547RTKGO4J</td>\n",
              "      <td>B004X4UZB8</td>\n",
              "      <td>757819581</td>\n",
              "      <td>Rode Micro Boom Pole Telescopic Microphone Ext...</td>\n",
              "      <td>Musical Instruments</td>\n",
              "      <td>4</td>\n",
              "      <td>0</td>\n",
              "      <td>0</td>\n",
              "      <td>N</td>\n",
              "      <td>Y</td>\n",
              "      <td>Its OK</td>\n",
              "      <td>A little noisy when fully extended but not a b...</td>\n",
              "      <td>2015-08-31</td>\n",
              "    </tr>\n",
              "    <tr>\n",
              "      <th>996</th>\n",
              "      <td>US</td>\n",
              "      <td>22104665</td>\n",
              "      <td>RG7T7A61J9MQD</td>\n",
              "      <td>B0092LWHI6</td>\n",
              "      <td>106972836</td>\n",
              "      <td>1set BM-06 Locking Tune-o-matic Guitar Bridge ...</td>\n",
              "      <td>Musical Instruments</td>\n",
              "      <td>2</td>\n",
              "      <td>0</td>\n",
              "      <td>0</td>\n",
              "      <td>N</td>\n",
              "      <td>Y</td>\n",
              "      <td>Two Stars</td>\n",
              "      <td>Meh... When I saw it I decided not to put it o...</td>\n",
              "      <td>2015-08-31</td>\n",
              "    </tr>\n",
              "    <tr>\n",
              "      <th>997</th>\n",
              "      <td>US</td>\n",
              "      <td>40897975</td>\n",
              "      <td>R1KBNAVKXI60FI</td>\n",
              "      <td>B000A1BMLA</td>\n",
              "      <td>63687537</td>\n",
              "      <td>Universal Percussion Pro 4 DMC500 Nylon Standa...</td>\n",
              "      <td>Musical Instruments</td>\n",
              "      <td>5</td>\n",
              "      <td>0</td>\n",
              "      <td>0</td>\n",
              "      <td>N</td>\n",
              "      <td>Y</td>\n",
              "      <td>Five Stars</td>\n",
              "      <td>Great for storing drums!</td>\n",
              "      <td>2015-08-31</td>\n",
              "    </tr>\n",
              "    <tr>\n",
              "      <th>998</th>\n",
              "      <td>US</td>\n",
              "      <td>11699327</td>\n",
              "      <td>R6MLMX44ZKF29</td>\n",
              "      <td>B000ML4KT4</td>\n",
              "      <td>537770028</td>\n",
              "      <td>Ortofon Spherical Pro S Stylus</td>\n",
              "      <td>Musical Instruments</td>\n",
              "      <td>5</td>\n",
              "      <td>0</td>\n",
              "      <td>0</td>\n",
              "      <td>N</td>\n",
              "      <td>Y</td>\n",
              "      <td>Five Stars</td>\n",
              "      <td>Thank you for your timely delivery! I received...</td>\n",
              "      <td>2015-08-31</td>\n",
              "    </tr>\n",
              "    <tr>\n",
              "      <th>999</th>\n",
              "      <td>US</td>\n",
              "      <td>1708928</td>\n",
              "      <td>R37U5LU8X6EBFA</td>\n",
              "      <td>B009LL32B8</td>\n",
              "      <td>364913873</td>\n",
              "      <td>Acoustic Guitar Accessory Pack with Pick Holde...</td>\n",
              "      <td>Musical Instruments</td>\n",
              "      <td>5</td>\n",
              "      <td>0</td>\n",
              "      <td>0</td>\n",
              "      <td>N</td>\n",
              "      <td>Y</td>\n",
              "      <td>Five Stars</td>\n",
              "      <td>Perfect. Everything is as described</td>\n",
              "      <td>2015-08-31</td>\n",
              "    </tr>\n",
              "  </tbody>\n",
              "</table>\n",
              "</div>"
            ],
            "text/plain": [
              "    marketplace  ...  review_date\n",
              "995          US  ...   2015-08-31\n",
              "996          US  ...   2015-08-31\n",
              "997          US  ...   2015-08-31\n",
              "998          US  ...   2015-08-31\n",
              "999          US  ...   2015-08-31\n",
              "\n",
              "[5 rows x 15 columns]"
            ]
          },
          "metadata": {
            "tags": []
          },
          "execution_count": 67
        }
      ]
    },
    {
      "cell_type": "code",
      "metadata": {
        "colab": {
          "base_uri": "https://localhost:8080/",
          "height": 300
        },
        "id": "1TqSzW0IV1Ad",
        "outputId": "f66603a4-9e6e-4925-8b5f-b33b327e2e06"
      },
      "source": [
        "#Check the Dataset (3)\n",
        "df.describe()"
      ],
      "execution_count": null,
      "outputs": [
        {
          "output_type": "execute_result",
          "data": {
            "text/html": [
              "<div>\n",
              "<style scoped>\n",
              "    .dataframe tbody tr th:only-of-type {\n",
              "        vertical-align: middle;\n",
              "    }\n",
              "\n",
              "    .dataframe tbody tr th {\n",
              "        vertical-align: top;\n",
              "    }\n",
              "\n",
              "    .dataframe thead th {\n",
              "        text-align: right;\n",
              "    }\n",
              "</style>\n",
              "<table border=\"1\" class=\"dataframe\">\n",
              "  <thead>\n",
              "    <tr style=\"text-align: right;\">\n",
              "      <th></th>\n",
              "      <th>customer_id</th>\n",
              "      <th>product_parent</th>\n",
              "      <th>star_rating</th>\n",
              "      <th>helpful_votes</th>\n",
              "      <th>total_votes</th>\n",
              "    </tr>\n",
              "  </thead>\n",
              "  <tbody>\n",
              "    <tr>\n",
              "      <th>count</th>\n",
              "      <td>1.000000e+03</td>\n",
              "      <td>1.000000e+03</td>\n",
              "      <td>1000.000000</td>\n",
              "      <td>1000.000000</td>\n",
              "      <td>1000.000000</td>\n",
              "    </tr>\n",
              "    <tr>\n",
              "      <th>mean</th>\n",
              "      <td>2.457006e+07</td>\n",
              "      <td>4.755987e+08</td>\n",
              "      <td>4.301000</td>\n",
              "      <td>0.594000</td>\n",
              "      <td>0.860000</td>\n",
              "    </tr>\n",
              "    <tr>\n",
              "      <th>std</th>\n",
              "      <td>1.675611e+07</td>\n",
              "      <td>2.883340e+08</td>\n",
              "      <td>1.232038</td>\n",
              "      <td>2.537243</td>\n",
              "      <td>3.101293</td>\n",
              "    </tr>\n",
              "    <tr>\n",
              "      <th>min</th>\n",
              "      <td>6.949300e+04</td>\n",
              "      <td>1.795492e+06</td>\n",
              "      <td>1.000000</td>\n",
              "      <td>0.000000</td>\n",
              "      <td>0.000000</td>\n",
              "    </tr>\n",
              "    <tr>\n",
              "      <th>25%</th>\n",
              "      <td>1.096511e+07</td>\n",
              "      <td>2.084465e+08</td>\n",
              "      <td>4.000000</td>\n",
              "      <td>0.000000</td>\n",
              "      <td>0.000000</td>\n",
              "    </tr>\n",
              "    <tr>\n",
              "      <th>50%</th>\n",
              "      <td>2.276876e+07</td>\n",
              "      <td>4.757526e+08</td>\n",
              "      <td>5.000000</td>\n",
              "      <td>0.000000</td>\n",
              "      <td>0.000000</td>\n",
              "    </tr>\n",
              "    <tr>\n",
              "      <th>75%</th>\n",
              "      <td>4.115280e+07</td>\n",
              "      <td>7.295131e+08</td>\n",
              "      <td>5.000000</td>\n",
              "      <td>0.000000</td>\n",
              "      <td>1.000000</td>\n",
              "    </tr>\n",
              "    <tr>\n",
              "      <th>max</th>\n",
              "      <td>5.309027e+07</td>\n",
              "      <td>9.998384e+08</td>\n",
              "      <td>5.000000</td>\n",
              "      <td>47.000000</td>\n",
              "      <td>61.000000</td>\n",
              "    </tr>\n",
              "  </tbody>\n",
              "</table>\n",
              "</div>"
            ],
            "text/plain": [
              "        customer_id  product_parent  star_rating  helpful_votes  total_votes\n",
              "count  1.000000e+03    1.000000e+03  1000.000000    1000.000000  1000.000000\n",
              "mean   2.457006e+07    4.755987e+08     4.301000       0.594000     0.860000\n",
              "std    1.675611e+07    2.883340e+08     1.232038       2.537243     3.101293\n",
              "min    6.949300e+04    1.795492e+06     1.000000       0.000000     0.000000\n",
              "25%    1.096511e+07    2.084465e+08     4.000000       0.000000     0.000000\n",
              "50%    2.276876e+07    4.757526e+08     5.000000       0.000000     0.000000\n",
              "75%    4.115280e+07    7.295131e+08     5.000000       0.000000     1.000000\n",
              "max    5.309027e+07    9.998384e+08     5.000000      47.000000    61.000000"
            ]
          },
          "metadata": {
            "tags": []
          },
          "execution_count": 68
        }
      ]
    },
    {
      "cell_type": "code",
      "metadata": {
        "colab": {
          "base_uri": "https://localhost:8080/"
        },
        "id": "6Kw-l_9WWFAn",
        "outputId": "2085075e-ea29-4f4f-95ed-84b992651713"
      },
      "source": [
        "#Check the Dataset (4)\n",
        "df.info()"
      ],
      "execution_count": null,
      "outputs": [
        {
          "output_type": "stream",
          "text": [
            "<class 'pandas.core.frame.DataFrame'>\n",
            "RangeIndex: 1000 entries, 0 to 999\n",
            "Data columns (total 15 columns):\n",
            " #   Column             Non-Null Count  Dtype \n",
            "---  ------             --------------  ----- \n",
            " 0   marketplace        1000 non-null   object\n",
            " 1   customer_id        1000 non-null   int64 \n",
            " 2   review_id          1000 non-null   object\n",
            " 3   product_id         1000 non-null   object\n",
            " 4   product_parent     1000 non-null   int64 \n",
            " 5   product_title      1000 non-null   object\n",
            " 6   product_category   1000 non-null   object\n",
            " 7   star_rating        1000 non-null   int64 \n",
            " 8   helpful_votes      1000 non-null   int64 \n",
            " 9   total_votes        1000 non-null   int64 \n",
            " 10  vine               1000 non-null   object\n",
            " 11  verified_purchase  1000 non-null   object\n",
            " 12  review_headline    1000 non-null   object\n",
            " 13  review_body        1000 non-null   object\n",
            " 14  review_date        1000 non-null   object\n",
            "dtypes: int64(5), object(10)\n",
            "memory usage: 117.3+ KB\n"
          ],
          "name": "stdout"
        }
      ]
    },
    {
      "cell_type": "code",
      "metadata": {
        "id": "N7y9LS84WgCT"
      },
      "source": [
        "#Drop unecessary columns\n",
        "df.drop(['marketplace', 'customer_id','review_id', 'product_id', 'product_parent', 'product_category'], axis=1, inplace=True)"
      ],
      "execution_count": null,
      "outputs": []
    },
    {
      "cell_type": "code",
      "metadata": {
        "colab": {
          "base_uri": "https://localhost:8080/",
          "height": 310
        },
        "id": "rrexIoW2Wp-h",
        "outputId": "df6a3c0d-7a7b-47f4-818e-20ffad210ed0"
      },
      "source": [
        "#Check the Dataset, if unecessary columns are dropped\n",
        "df.head()"
      ],
      "execution_count": null,
      "outputs": [
        {
          "output_type": "execute_result",
          "data": {
            "text/html": [
              "<div>\n",
              "<style scoped>\n",
              "    .dataframe tbody tr th:only-of-type {\n",
              "        vertical-align: middle;\n",
              "    }\n",
              "\n",
              "    .dataframe tbody tr th {\n",
              "        vertical-align: top;\n",
              "    }\n",
              "\n",
              "    .dataframe thead th {\n",
              "        text-align: right;\n",
              "    }\n",
              "</style>\n",
              "<table border=\"1\" class=\"dataframe\">\n",
              "  <thead>\n",
              "    <tr style=\"text-align: right;\">\n",
              "      <th></th>\n",
              "      <th>product_title</th>\n",
              "      <th>star_rating</th>\n",
              "      <th>helpful_votes</th>\n",
              "      <th>total_votes</th>\n",
              "      <th>vine</th>\n",
              "      <th>verified_purchase</th>\n",
              "      <th>review_headline</th>\n",
              "      <th>review_body</th>\n",
              "      <th>review_date</th>\n",
              "    </tr>\n",
              "  </thead>\n",
              "  <tbody>\n",
              "    <tr>\n",
              "      <th>0</th>\n",
              "      <td>AGPtek® 10 Isolated Output 9V 12V 18V Guitar P...</td>\n",
              "      <td>3</td>\n",
              "      <td>0</td>\n",
              "      <td>1</td>\n",
              "      <td>N</td>\n",
              "      <td>N</td>\n",
              "      <td>Three Stars</td>\n",
              "      <td>Works very good, but induces ALOT of noise.</td>\n",
              "      <td>2015-08-31</td>\n",
              "    </tr>\n",
              "    <tr>\n",
              "      <th>1</th>\n",
              "      <td>Sennheiser HD203 Closed-Back DJ Headphones</td>\n",
              "      <td>5</td>\n",
              "      <td>0</td>\n",
              "      <td>0</td>\n",
              "      <td>N</td>\n",
              "      <td>Y</td>\n",
              "      <td>Five Stars</td>\n",
              "      <td>Nice headphones at a reasonable price.</td>\n",
              "      <td>2015-08-31</td>\n",
              "    </tr>\n",
              "    <tr>\n",
              "      <th>2</th>\n",
              "      <td>AudioQuest LP record clean brush</td>\n",
              "      <td>3</td>\n",
              "      <td>0</td>\n",
              "      <td>1</td>\n",
              "      <td>N</td>\n",
              "      <td>Y</td>\n",
              "      <td>Three Stars</td>\n",
              "      <td>removes dust. does not clean</td>\n",
              "      <td>2015-08-31</td>\n",
              "    </tr>\n",
              "    <tr>\n",
              "      <th>3</th>\n",
              "      <td>Hohner Inc. 560BX-BF Special Twenty Harmonica</td>\n",
              "      <td>5</td>\n",
              "      <td>0</td>\n",
              "      <td>0</td>\n",
              "      <td>N</td>\n",
              "      <td>Y</td>\n",
              "      <td>I purchase these for a friend in return for pl...</td>\n",
              "      <td>I purchase these for a friend in return for pl...</td>\n",
              "      <td>2015-08-31</td>\n",
              "    </tr>\n",
              "    <tr>\n",
              "      <th>4</th>\n",
              "      <td>Blue Yeti USB Microphone - Blackout Edition</td>\n",
              "      <td>5</td>\n",
              "      <td>0</td>\n",
              "      <td>0</td>\n",
              "      <td>N</td>\n",
              "      <td>Y</td>\n",
              "      <td>Five Stars</td>\n",
              "      <td>This is an awesome mic!</td>\n",
              "      <td>2015-08-31</td>\n",
              "    </tr>\n",
              "  </tbody>\n",
              "</table>\n",
              "</div>"
            ],
            "text/plain": [
              "                                       product_title  ...  review_date\n",
              "0  AGPtek® 10 Isolated Output 9V 12V 18V Guitar P...  ...   2015-08-31\n",
              "1         Sennheiser HD203 Closed-Back DJ Headphones  ...   2015-08-31\n",
              "2                   AudioQuest LP record clean brush  ...   2015-08-31\n",
              "3      Hohner Inc. 560BX-BF Special Twenty Harmonica  ...   2015-08-31\n",
              "4        Blue Yeti USB Microphone - Blackout Edition  ...   2015-08-31\n",
              "\n",
              "[5 rows x 9 columns]"
            ]
          },
          "metadata": {
            "tags": []
          },
          "execution_count": 71
        }
      ]
    },
    {
      "cell_type": "code",
      "metadata": {
        "id": "6SpvvzZzYy1c"
      },
      "source": [
        "#Convert 'vine' data type and one-hot encoding from (Y,N) to (1,0) respectively\n",
        "vineFlag = {\n",
        "    'N': 0,\n",
        "    'Y': 1\n",
        "}\n",
        "\n",
        "df['vine'] = df['vine'].map(vineFlag)"
      ],
      "execution_count": null,
      "outputs": []
    },
    {
      "cell_type": "code",
      "metadata": {
        "id": "ThQhw4YFXwLW"
      },
      "source": [
        "#Convert 'verified purchase' data type and one-hot encoding from (Y,N) to (1,0) respectively\n",
        "verifiedPurchaseFlag = {\n",
        "    'N': 0,\n",
        "    'Y': 1\n",
        "}\n",
        "\n",
        "df['verified_purchase'] = df['verified_purchase'].map(verifiedPurchaseFlag)"
      ],
      "execution_count": null,
      "outputs": []
    },
    {
      "cell_type": "code",
      "metadata": {
        "colab": {
          "base_uri": "https://localhost:8080/",
          "height": 310
        },
        "id": "r_TGbryzZJSp",
        "outputId": "cde33417-6b97-4583-8589-cc3b7b5bf058"
      },
      "source": [
        "#Check the Dataset, specifically one-hot encoding\n",
        "df.head()"
      ],
      "execution_count": null,
      "outputs": [
        {
          "output_type": "execute_result",
          "data": {
            "text/html": [
              "<div>\n",
              "<style scoped>\n",
              "    .dataframe tbody tr th:only-of-type {\n",
              "        vertical-align: middle;\n",
              "    }\n",
              "\n",
              "    .dataframe tbody tr th {\n",
              "        vertical-align: top;\n",
              "    }\n",
              "\n",
              "    .dataframe thead th {\n",
              "        text-align: right;\n",
              "    }\n",
              "</style>\n",
              "<table border=\"1\" class=\"dataframe\">\n",
              "  <thead>\n",
              "    <tr style=\"text-align: right;\">\n",
              "      <th></th>\n",
              "      <th>product_title</th>\n",
              "      <th>star_rating</th>\n",
              "      <th>helpful_votes</th>\n",
              "      <th>total_votes</th>\n",
              "      <th>vine</th>\n",
              "      <th>verified_purchase</th>\n",
              "      <th>review_headline</th>\n",
              "      <th>review_body</th>\n",
              "      <th>review_date</th>\n",
              "    </tr>\n",
              "  </thead>\n",
              "  <tbody>\n",
              "    <tr>\n",
              "      <th>0</th>\n",
              "      <td>AGPtek® 10 Isolated Output 9V 12V 18V Guitar P...</td>\n",
              "      <td>3</td>\n",
              "      <td>0</td>\n",
              "      <td>1</td>\n",
              "      <td>0</td>\n",
              "      <td>0</td>\n",
              "      <td>Three Stars</td>\n",
              "      <td>Works very good, but induces ALOT of noise.</td>\n",
              "      <td>2015-08-31</td>\n",
              "    </tr>\n",
              "    <tr>\n",
              "      <th>1</th>\n",
              "      <td>Sennheiser HD203 Closed-Back DJ Headphones</td>\n",
              "      <td>5</td>\n",
              "      <td>0</td>\n",
              "      <td>0</td>\n",
              "      <td>0</td>\n",
              "      <td>1</td>\n",
              "      <td>Five Stars</td>\n",
              "      <td>Nice headphones at a reasonable price.</td>\n",
              "      <td>2015-08-31</td>\n",
              "    </tr>\n",
              "    <tr>\n",
              "      <th>2</th>\n",
              "      <td>AudioQuest LP record clean brush</td>\n",
              "      <td>3</td>\n",
              "      <td>0</td>\n",
              "      <td>1</td>\n",
              "      <td>0</td>\n",
              "      <td>1</td>\n",
              "      <td>Three Stars</td>\n",
              "      <td>removes dust. does not clean</td>\n",
              "      <td>2015-08-31</td>\n",
              "    </tr>\n",
              "    <tr>\n",
              "      <th>3</th>\n",
              "      <td>Hohner Inc. 560BX-BF Special Twenty Harmonica</td>\n",
              "      <td>5</td>\n",
              "      <td>0</td>\n",
              "      <td>0</td>\n",
              "      <td>0</td>\n",
              "      <td>1</td>\n",
              "      <td>I purchase these for a friend in return for pl...</td>\n",
              "      <td>I purchase these for a friend in return for pl...</td>\n",
              "      <td>2015-08-31</td>\n",
              "    </tr>\n",
              "    <tr>\n",
              "      <th>4</th>\n",
              "      <td>Blue Yeti USB Microphone - Blackout Edition</td>\n",
              "      <td>5</td>\n",
              "      <td>0</td>\n",
              "      <td>0</td>\n",
              "      <td>0</td>\n",
              "      <td>1</td>\n",
              "      <td>Five Stars</td>\n",
              "      <td>This is an awesome mic!</td>\n",
              "      <td>2015-08-31</td>\n",
              "    </tr>\n",
              "  </tbody>\n",
              "</table>\n",
              "</div>"
            ],
            "text/plain": [
              "                                       product_title  ...  review_date\n",
              "0  AGPtek® 10 Isolated Output 9V 12V 18V Guitar P...  ...   2015-08-31\n",
              "1         Sennheiser HD203 Closed-Back DJ Headphones  ...   2015-08-31\n",
              "2                   AudioQuest LP record clean brush  ...   2015-08-31\n",
              "3      Hohner Inc. 560BX-BF Special Twenty Harmonica  ...   2015-08-31\n",
              "4        Blue Yeti USB Microphone - Blackout Edition  ...   2015-08-31\n",
              "\n",
              "[5 rows x 9 columns]"
            ]
          },
          "metadata": {
            "tags": []
          },
          "execution_count": 74
        }
      ]
    }
  ]
}